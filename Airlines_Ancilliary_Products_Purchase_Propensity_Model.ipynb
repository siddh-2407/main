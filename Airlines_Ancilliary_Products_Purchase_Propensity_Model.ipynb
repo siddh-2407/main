{
 "cells": [
  {
   "cell_type": "code",
   "execution_count": 45,
   "metadata": {},
   "outputs": [],
   "source": [
    "# ✈️ Airline Ancillary Revenue Prediction - Hybrid Pipeline\n",
    "\n",
    "# 📌 Model 1: Binary Classification - Will a customer buy ANY ancillary product?\n",
    "\n",
    "# 🎯 Step 1: Import libraries\n",
    "\n",
    "import pandas as pd\n",
    "import numpy as np\n",
    "import matplotlib.pyplot as plt\n",
    "import seaborn as sns\n",
    "\n",
    "\n",
    "from sklearn.model_selection import train_test_split, GridSearchCV\n",
    "from sklearn.preprocessing import StandardScaler, OneHotEncoder\n",
    "from sklearn.compose import ColumnTransformer\n",
    "from sklearn.pipeline import Pipeline\n",
    "from sklearn.metrics import (classification_report, confusion_matrix,\n",
    "                             roc_auc_score, roc_curve, accuracy_score)\n",
    "\n",
    "from sklearn.ensemble import RandomForestClassifier\n",
    "from sklearn.linear_model import LogisticRegression\n",
    "from xgboost import XGBClassifier\n",
    "\n",
    "\n",
    "import warnings\n",
    "warnings.filterwarnings(\"ignore\")"
   ]
  },
  {
   "cell_type": "code",
   "execution_count": 46,
   "metadata": {},
   "outputs": [],
   "source": [
    "# 🎯 Step 2: Load and prepare data\n",
    "df = pd.read_csv(\"Airlines_Ancilliary_Revenue_Data_Kaggle_V6.csv\")\n",
    "\n",
    "# Define target: Any Ancillary Buyer\n",
    "target_cols = ['Travel_Insurance', 'wants_preferred_seat', 'Extra_Baggage', \n",
    "               'Meal', 'Priority_Boarding', 'Premium_Lounge']\n",
    "df['Ancillary_Buyer'] = df[target_cols].any(axis=1).astype(int)\n",
    "\n",
    "# Store and remove Customer_ID from feature set\n",
    "customer_ids = df['Customer_ID']\n",
    "df.drop(columns=['Customer_ID'], inplace=True)\n"
   ]
  },
  {
   "cell_type": "code",
   "execution_count": 47,
   "metadata": {},
   "outputs": [
    {
     "name": "stdout",
     "output_type": "stream",
     "text": [
      "Available columns: ['Age', 'Gender', 'Family_Size', 'Num_Adults', 'Num_Children', 'Device_Type', 'Has_Return_Flight', 'Is_Multi_City', 'Booking_Lead_Time', 'length_of_stay', 'Trip_Duration', 'flight_day', 'Destination', 'Origin', 'Extra_Baggage', 'wants_preferred_seat', 'Meal', 'Travel_Insurance', 'Priority_Boarding', 'Premium_Lounge', 'flight_duration', 'booking_complete', 'Previous_Ancillary_Purchases', 'Recency_Days', 'Booking_Frequency', 'Session_Duration', 'Page_Views', 'Ancillary_Buyer']\n"
     ]
    },
    {
     "data": {
      "text/html": [
       "<div>\n",
       "<style scoped>\n",
       "    .dataframe tbody tr th:only-of-type {\n",
       "        vertical-align: middle;\n",
       "    }\n",
       "\n",
       "    .dataframe tbody tr th {\n",
       "        vertical-align: top;\n",
       "    }\n",
       "\n",
       "    .dataframe thead th {\n",
       "        text-align: right;\n",
       "    }\n",
       "</style>\n",
       "<table border=\"1\" class=\"dataframe\">\n",
       "  <thead>\n",
       "    <tr style=\"text-align: right;\">\n",
       "      <th></th>\n",
       "      <th>Age</th>\n",
       "      <th>Gender</th>\n",
       "      <th>Family_Size</th>\n",
       "      <th>Num_Adults</th>\n",
       "      <th>Num_Children</th>\n",
       "      <th>Device_Type</th>\n",
       "      <th>Has_Return_Flight</th>\n",
       "      <th>Is_Multi_City</th>\n",
       "      <th>Booking_Lead_Time</th>\n",
       "      <th>length_of_stay</th>\n",
       "      <th>...</th>\n",
       "      <th>Priority_Boarding</th>\n",
       "      <th>Premium_Lounge</th>\n",
       "      <th>flight_duration</th>\n",
       "      <th>booking_complete</th>\n",
       "      <th>Previous_Ancillary_Purchases</th>\n",
       "      <th>Recency_Days</th>\n",
       "      <th>Booking_Frequency</th>\n",
       "      <th>Session_Duration</th>\n",
       "      <th>Page_Views</th>\n",
       "      <th>Ancillary_Buyer</th>\n",
       "    </tr>\n",
       "  </thead>\n",
       "  <tbody>\n",
       "    <tr>\n",
       "      <th>0</th>\n",
       "      <td>56</td>\n",
       "      <td>Female</td>\n",
       "      <td>6</td>\n",
       "      <td>2</td>\n",
       "      <td>4</td>\n",
       "      <td>Website</td>\n",
       "      <td>RoundTrip</td>\n",
       "      <td>0</td>\n",
       "      <td>262</td>\n",
       "      <td>19</td>\n",
       "      <td>...</td>\n",
       "      <td>0</td>\n",
       "      <td>0</td>\n",
       "      <td>5.52</td>\n",
       "      <td>0</td>\n",
       "      <td>0</td>\n",
       "      <td>156</td>\n",
       "      <td>3</td>\n",
       "      <td>245</td>\n",
       "      <td>6</td>\n",
       "      <td>1</td>\n",
       "    </tr>\n",
       "    <tr>\n",
       "      <th>1</th>\n",
       "      <td>69</td>\n",
       "      <td>Male</td>\n",
       "      <td>3</td>\n",
       "      <td>1</td>\n",
       "      <td>2</td>\n",
       "      <td>Website</td>\n",
       "      <td>RoundTrip</td>\n",
       "      <td>0</td>\n",
       "      <td>112</td>\n",
       "      <td>20</td>\n",
       "      <td>...</td>\n",
       "      <td>0</td>\n",
       "      <td>0</td>\n",
       "      <td>5.52</td>\n",
       "      <td>0</td>\n",
       "      <td>0</td>\n",
       "      <td>224</td>\n",
       "      <td>1</td>\n",
       "      <td>478</td>\n",
       "      <td>6</td>\n",
       "      <td>0</td>\n",
       "    </tr>\n",
       "    <tr>\n",
       "      <th>2</th>\n",
       "      <td>46</td>\n",
       "      <td>Male</td>\n",
       "      <td>5</td>\n",
       "      <td>2</td>\n",
       "      <td>3</td>\n",
       "      <td>Website</td>\n",
       "      <td>RoundTrip</td>\n",
       "      <td>0</td>\n",
       "      <td>243</td>\n",
       "      <td>22</td>\n",
       "      <td>...</td>\n",
       "      <td>0</td>\n",
       "      <td>0</td>\n",
       "      <td>5.52</td>\n",
       "      <td>0</td>\n",
       "      <td>1</td>\n",
       "      <td>154</td>\n",
       "      <td>4</td>\n",
       "      <td>366</td>\n",
       "      <td>4</td>\n",
       "      <td>1</td>\n",
       "    </tr>\n",
       "    <tr>\n",
       "      <th>3</th>\n",
       "      <td>32</td>\n",
       "      <td>Female</td>\n",
       "      <td>1</td>\n",
       "      <td>1</td>\n",
       "      <td>0</td>\n",
       "      <td>Website</td>\n",
       "      <td>RoundTrip</td>\n",
       "      <td>0</td>\n",
       "      <td>96</td>\n",
       "      <td>31</td>\n",
       "      <td>...</td>\n",
       "      <td>1</td>\n",
       "      <td>0</td>\n",
       "      <td>5.52</td>\n",
       "      <td>0</td>\n",
       "      <td>1</td>\n",
       "      <td>352</td>\n",
       "      <td>3</td>\n",
       "      <td>199</td>\n",
       "      <td>2</td>\n",
       "      <td>1</td>\n",
       "    </tr>\n",
       "    <tr>\n",
       "      <th>4</th>\n",
       "      <td>60</td>\n",
       "      <td>Male</td>\n",
       "      <td>3</td>\n",
       "      <td>2</td>\n",
       "      <td>1</td>\n",
       "      <td>Website</td>\n",
       "      <td>RoundTrip</td>\n",
       "      <td>0</td>\n",
       "      <td>68</td>\n",
       "      <td>22</td>\n",
       "      <td>...</td>\n",
       "      <td>0</td>\n",
       "      <td>0</td>\n",
       "      <td>5.52</td>\n",
       "      <td>0</td>\n",
       "      <td>1</td>\n",
       "      <td>73</td>\n",
       "      <td>1</td>\n",
       "      <td>393</td>\n",
       "      <td>8</td>\n",
       "      <td>1</td>\n",
       "    </tr>\n",
       "  </tbody>\n",
       "</table>\n",
       "<p>5 rows × 28 columns</p>\n",
       "</div>"
      ],
      "text/plain": [
       "   Age  Gender  Family_Size  Num_Adults  Num_Children Device_Type  \\\n",
       "0   56  Female            6           2             4     Website   \n",
       "1   69    Male            3           1             2     Website   \n",
       "2   46    Male            5           2             3     Website   \n",
       "3   32  Female            1           1             0     Website   \n",
       "4   60    Male            3           2             1     Website   \n",
       "\n",
       "  Has_Return_Flight  Is_Multi_City  Booking_Lead_Time  length_of_stay  ...  \\\n",
       "0         RoundTrip              0                262              19  ...   \n",
       "1         RoundTrip              0                112              20  ...   \n",
       "2         RoundTrip              0                243              22  ...   \n",
       "3         RoundTrip              0                 96              31  ...   \n",
       "4         RoundTrip              0                 68              22  ...   \n",
       "\n",
       "   Priority_Boarding Premium_Lounge flight_duration booking_complete  \\\n",
       "0                  0              0            5.52                0   \n",
       "1                  0              0            5.52                0   \n",
       "2                  0              0            5.52                0   \n",
       "3                  1              0            5.52                0   \n",
       "4                  0              0            5.52                0   \n",
       "\n",
       "   Previous_Ancillary_Purchases  Recency_Days  Booking_Frequency  \\\n",
       "0                             0           156                  3   \n",
       "1                             0           224                  1   \n",
       "2                             1           154                  4   \n",
       "3                             1           352                  3   \n",
       "4                             1            73                  1   \n",
       "\n",
       "   Session_Duration  Page_Views  Ancillary_Buyer  \n",
       "0               245           6                1  \n",
       "1               478           6                0  \n",
       "2               366           4                1  \n",
       "3               199           2                1  \n",
       "4               393           8                1  \n",
       "\n",
       "[5 rows x 28 columns]"
      ]
     },
     "execution_count": 47,
     "metadata": {},
     "output_type": "execute_result"
    }
   ],
   "source": [
    "print(\"Available columns:\", df.columns.tolist())\n",
    "df.head()"
   ]
  },
  {
   "cell_type": "code",
   "execution_count": 48,
   "metadata": {},
   "outputs": [],
   "source": [
    "# 🎯 Step 3: Feature and target separation\n",
    "# Clean data types BEFORE defining X and y\n",
    "\n",
    "# Known numeric columns to fix\n",
    "numeric_candidates = [\n",
    "    'Age', 'Family_Size', 'Num_Adults', 'Num_Children',\n",
    "    'Booking_Lead_Time', 'length_of_stay', 'Trip_Duration', 'flight_duration',\n",
    "    'Previous_Ancillary_Purchases', 'Recency_Days', 'Booking_Frequency',\n",
    "    'Session_Duration', 'Page_Views', 'booking_complete'\n",
    "]\n",
    "\n",
    "# Force convert to numeric\n",
    "for col in numeric_candidates:\n",
    "    df[col] = pd.to_numeric(df[col], errors='coerce')\n",
    "\n",
    "# Fill NaNs with median\n",
    "df[numeric_candidates] = df[numeric_candidates].fillna(df[numeric_candidates].median())\n",
    "\n",
    "# ✅ Define feature matrix and target\n",
    "X = df.drop(columns=target_cols + ['Ancillary_Buyer', 'Customer_ID'], errors='ignore')\n",
    "y = df['Ancillary_Buyer']\n",
    "\n",
    "# Final feature type separation based on actual data\n",
    "numeric_features = [col for col in numeric_candidates if col in X.columns]\n",
    "categorical_features = X.select_dtypes(include=['object', 'bool', 'category']).columns.tolist()\n",
    "\n",
    "# ✅ Build preprocessor\n",
    "from sklearn.compose import ColumnTransformer\n",
    "from sklearn.preprocessing import StandardScaler, OneHotEncoder\n",
    "\n",
    "preprocessor = ColumnTransformer([\n",
    "    ('num', StandardScaler(), numeric_features),\n",
    "    ('cat', OneHotEncoder(drop='first', handle_unknown='ignore'), categorical_features)\n",
    "])\n"
   ]
  },
  {
   "cell_type": "code",
   "execution_count": 49,
   "metadata": {},
   "outputs": [
    {
     "name": "stdout",
     "output_type": "stream",
     "text": [
      "🧠 Final numeric features: ['Age', 'Family_Size', 'Num_Adults', 'Num_Children', 'Booking_Lead_Time', 'length_of_stay', 'Trip_Duration', 'flight_duration', 'Previous_Ancillary_Purchases', 'Recency_Days', 'Booking_Frequency', 'Session_Duration', 'Page_Views', 'booking_complete']\n",
      "🧠 Final categorical features: ['Gender', 'Device_Type', 'Has_Return_Flight', 'flight_day', 'Destination', 'Origin']\n",
      "🧠 Any object types left in X? ['Gender', 'Device_Type', 'Has_Return_Flight', 'flight_day', 'Destination', 'Origin']\n"
     ]
    }
   ],
   "source": [
    "print(\"🧠 Final numeric features:\", numeric_features)\n",
    "print(\"🧠 Final categorical features:\", categorical_features)\n",
    "print(\"🧠 Any object types left in X?\", X.select_dtypes(include='object').columns.tolist())\n"
   ]
  },
  {
   "cell_type": "code",
   "execution_count": 51,
   "metadata": {},
   "outputs": [],
   "source": [
    "# 🎯 Step 4: Train-Validation-Test split\n",
    "X_temp, X_test, y_temp, y_test = train_test_split(X, y, test_size=0.2, random_state=42, stratify=y)\n",
    "X_train, X_val, y_train, y_val = train_test_split(X_temp, y_temp, test_size=0.25, random_state=42, stratify=y_temp)  # 60/20/20 split"
   ]
  },
  {
   "cell_type": "code",
   "execution_count": 52,
   "metadata": {},
   "outputs": [
    {
     "name": "stdout",
     "output_type": "stream",
     "text": [
      "✅ Preprocessing succeeded. Shape: (30000, 875)\n"
     ]
    }
   ],
   "source": [
    "try:\n",
    "    preprocessor.fit(X_train)\n",
    "    X_transformed = preprocessor.transform(X_train)\n",
    "    print(\"✅ Preprocessing succeeded. Shape:\", X_transformed.shape)\n",
    "\n",
    "except Exception as e:\n",
    "    print(\"❌ Preprocessing failed.\")\n",
    "    print(\"Error:\", e)"
   ]
  },
  {
   "cell_type": "code",
   "execution_count": 53,
   "metadata": {},
   "outputs": [
    {
     "name": "stdout",
     "output_type": "stream",
     "text": [
      "🔍 Data types before preprocessing:\n",
      "Age                               int64\n",
      "Gender                           object\n",
      "Family_Size                       int64\n",
      "Num_Adults                        int64\n",
      "Num_Children                      int64\n",
      "Device_Type                      object\n",
      "Has_Return_Flight                object\n",
      "Is_Multi_City                     int64\n",
      "Booking_Lead_Time                 int64\n",
      "length_of_stay                    int64\n",
      "Trip_Duration                     int64\n",
      "flight_day                       object\n",
      "Destination                      object\n",
      "Origin                           object\n",
      "Extra_Baggage                     int64\n",
      "wants_preferred_seat              int64\n",
      "Meal                              int64\n",
      "Travel_Insurance                  int64\n",
      "Priority_Boarding                 int64\n",
      "Premium_Lounge                    int64\n",
      "flight_duration                 float64\n",
      "booking_complete                  int64\n",
      "Previous_Ancillary_Purchases      int64\n",
      "Recency_Days                      int64\n",
      "Booking_Frequency                 int64\n",
      "Session_Duration                  int64\n",
      "Page_Views                        int64\n",
      "Ancillary_Buyer                   int64\n",
      "dtype: object\n"
     ]
    }
   ],
   "source": [
    "print(\"🔍 Data types before preprocessing:\")\n",
    "print(df.dtypes)"
   ]
  },
  {
   "cell_type": "code",
   "execution_count": 54,
   "metadata": {},
   "outputs": [
    {
     "name": "stdout",
     "output_type": "stream",
     "text": [
      "🧪 Columns passed to model (X_train): ['Age', 'Gender', 'Family_Size', 'Num_Adults', 'Num_Children', 'Device_Type', 'Has_Return_Flight', 'Is_Multi_City', 'Booking_Lead_Time', 'length_of_stay', 'Trip_Duration', 'flight_day', 'Destination', 'Origin', 'flight_duration', 'booking_complete', 'Previous_Ancillary_Purchases', 'Recency_Days', 'Booking_Frequency', 'Session_Duration', 'Page_Views']\n",
      "🧪 Data types of X_train:\n",
      "Age                               int64\n",
      "Gender                           object\n",
      "Family_Size                       int64\n",
      "Num_Adults                        int64\n",
      "Num_Children                      int64\n",
      "Device_Type                      object\n",
      "Has_Return_Flight                object\n",
      "Is_Multi_City                     int64\n",
      "Booking_Lead_Time                 int64\n",
      "length_of_stay                    int64\n",
      "Trip_Duration                     int64\n",
      "flight_day                       object\n",
      "Destination                      object\n",
      "Origin                           object\n",
      "flight_duration                 float64\n",
      "booking_complete                  int64\n",
      "Previous_Ancillary_Purchases      int64\n",
      "Recency_Days                      int64\n",
      "Booking_Frequency                 int64\n",
      "Session_Duration                  int64\n",
      "Page_Views                        int64\n",
      "dtype: object\n",
      "🧪 NaNs in X_train:\n",
      " Age                             0\n",
      "Gender                          0\n",
      "Family_Size                     0\n",
      "Num_Adults                      0\n",
      "Num_Children                    0\n",
      "Device_Type                     0\n",
      "Has_Return_Flight               0\n",
      "Is_Multi_City                   0\n",
      "Booking_Lead_Time               0\n",
      "length_of_stay                  0\n",
      "Trip_Duration                   0\n",
      "flight_day                      0\n",
      "Destination                     0\n",
      "Origin                          0\n",
      "flight_duration                 0\n",
      "booking_complete                0\n",
      "Previous_Ancillary_Purchases    0\n",
      "Recency_Days                    0\n",
      "Booking_Frequency               0\n",
      "Session_Duration                0\n",
      "Page_Views                      0\n",
      "dtype: int64\n"
     ]
    }
   ],
   "source": [
    "# 🚨 Check for any object columns that snuck in\n",
    "print(\"🧪 Columns passed to model (X_train):\", X_train.columns.tolist())\n",
    "print(\"🧪 Data types of X_train:\")\n",
    "print(X_train.dtypes)\n",
    "\n",
    "# Bonus: Check for remaining NaNs\n",
    "print(\"🧪 NaNs in X_train:\\n\", X_train.isnull().sum())"
   ]
  },
  {
   "cell_type": "code",
   "execution_count": 55,
   "metadata": {},
   "outputs": [
    {
     "name": "stdout",
     "output_type": "stream",
     "text": [
      "\n",
      "📊 Model Evaluation Summary:\n",
      "\n",
      "RandomForest AUC: 0.6543\n",
      "              precision    recall  f1-score   support\n",
      "\n",
      "           0       0.67      0.00      0.00      1271\n",
      "           1       0.87      1.00      0.93      8729\n",
      "\n",
      "    accuracy                           0.87     10000\n",
      "   macro avg       0.77      0.50      0.47     10000\n",
      "weighted avg       0.85      0.87      0.81     10000\n",
      "\n",
      "LogisticRegression AUC: 0.6473\n",
      "              precision    recall  f1-score   support\n",
      "\n",
      "           0       0.83      0.00      0.01      1271\n",
      "           1       0.87      1.00      0.93      8729\n",
      "\n",
      "    accuracy                           0.87     10000\n",
      "   macro avg       0.85      0.50      0.47     10000\n",
      "weighted avg       0.87      0.87      0.81     10000\n",
      "\n",
      "XGBoost AUC: 0.6561\n",
      "              precision    recall  f1-score   support\n",
      "\n",
      "           0       0.34      0.02      0.03      1271\n",
      "           1       0.87      1.00      0.93      8729\n",
      "\n",
      "    accuracy                           0.87     10000\n",
      "   macro avg       0.61      0.51      0.48     10000\n",
      "weighted avg       0.81      0.87      0.82     10000\n",
      "\n"
     ]
    }
   ],
   "source": [
    "# 🎯 Step 6: Define models for comparison\n",
    "models = {\n",
    "    'RandomForest': RandomForestClassifier(random_state=42),\n",
    "    'LogisticRegression': LogisticRegression(max_iter=1000),\n",
    "    'XGBoost': XGBClassifier(use_label_encoder=False, eval_metric='logloss', random_state=42)\n",
    "}\n",
    "\n",
    "best_model = None\n",
    "best_auc = 0\n",
    "best_name = \"\"\n",
    "\n",
    "print(\"\\n📊 Model Evaluation Summary:\\n\")\n",
    "\n",
    "for name, model in models.items():\n",
    "    pipe = Pipeline([\n",
    "        ('preprocess', preprocessor),\n",
    "        ('clf', model)\n",
    "    ])\n",
    "    pipe.fit(X_train, y_train)\n",
    "    val_probs = pipe.predict_proba(X_val)[:, 1]\n",
    "    val_preds = pipe.predict(X_val)\n",
    "    auc = roc_auc_score(y_val, val_probs)\n",
    "    print(f\"{name} AUC: {auc:.4f}\")\n",
    "    print(classification_report(y_val, val_preds))\n",
    "    \n",
    "    if auc > best_auc:\n",
    "        best_model = pipe\n",
    "        best_auc = auc\n",
    "        best_name = name"
   ]
  },
  {
   "cell_type": "code",
   "execution_count": 56,
   "metadata": {},
   "outputs": [
    {
     "name": "stdout",
     "output_type": "stream",
     "text": [
      "\n",
      "✅ Best Model: XGBoost\n",
      "Confusion Matrix (Test):\n",
      "[[  20 1252]\n",
      " [  42 8686]]\n",
      "Classification Report (Test):\n",
      "              precision    recall  f1-score   support\n",
      "\n",
      "           0       0.32      0.02      0.03      1272\n",
      "           1       0.87      1.00      0.93      8728\n",
      "\n",
      "    accuracy                           0.87     10000\n",
      "   macro avg       0.60      0.51      0.48     10000\n",
      "weighted avg       0.80      0.87      0.82     10000\n",
      "\n",
      "ROC AUC (Test): 0.6812419474084707\n"
     ]
    }
   ],
   "source": [
    "# 🎯 Step 7: Evaluate best model on test set\n",
    "y_test_pred = best_model.predict(X_test)\n",
    "y_test_proba = best_model.predict_proba(X_test)[:, 1]\n",
    "\n",
    "print(\"\\n✅ Best Model:\", best_name)\n",
    "print(\"Confusion Matrix (Test):\")\n",
    "print(confusion_matrix(y_test, y_test_pred))\n",
    "print(\"Classification Report (Test):\")\n",
    "print(classification_report(y_test, y_test_pred))\n",
    "print(\"ROC AUC (Test):\", roc_auc_score(y_test, y_test_proba))"
   ]
  },
  {
   "cell_type": "code",
   "execution_count": 57,
   "metadata": {},
   "outputs": [
    {
     "data": {
      "image/png": "[encoded data removed]",
      "text/plain": [
       "<Figure size 800x600 with 1 Axes>"
      ]
     },
     "metadata": {},
     "output_type": "display_data"
    }
   ],
   "source": [
    "# 🎯 Step 8: Plot ROC Curve\n",
    "fpr, tpr, _ = roc_curve(y_test, y_test_proba)\n",
    "plt.figure(figsize=(8, 6))\n",
    "plt.plot(fpr, tpr, label=f'{best_name} (AUC = {roc_auc_score(y_test, y_test_proba):.2f})')\n",
    "plt.plot([0, 1], [0, 1], 'k--')\n",
    "plt.xlabel('False Positive Rate')\n",
    "plt.ylabel('True Positive Rate')\n",
    "plt.title('ROC Curve - Model 1')\n",
    "plt.legend()\n",
    "plt.grid(True)\n",
    "plt.show()"
   ]
  },
  {
   "cell_type": "code",
   "execution_count": 41,
   "metadata": {},
   "outputs": [],
   "source": [
    "# 🎯 Step 9: Save Model 1 Predictions\n",
    "#X_test_reset = X_test.reset_index(drop=True)\n",
    "#X_test_reset = X_test.reset_index(drop=True)\n",
    "#model1_output = pd.DataFrame({\n",
    "#    'Customer_ID': customer_ids.loc[X_test.index].values,\n",
    "#    'Ancillary_Buyer_Prediction': np.where(y_test_proba >= 0.5, 'Likely', 'Unlikely'),\n",
    "#    'Ancillary_Buyer_Probability': y_test_proba\n",
    "#})\n",
    "\n",
    "#model1_output.to_csv(\"model1_any_ancillary_prediction.csv\", index=False)\n",
    "#model1_output.head()\n",
    "#print(\"\\n✅ Model 1 predictions saved to 'model1_any_ancillary_prediction.csv'\")"
   ]
  },
  {
   "cell_type": "code",
   "execution_count": 59,
   "metadata": {},
   "outputs": [
    {
     "name": "stdout",
     "output_type": "stream",
     "text": [
      "✅ Full predictions saved to model1_full_predictions.csv\n",
      "✅ Likely customers saved to model1_likely_customers.csv\n"
     ]
    }
   ],
   "source": [
    "# 🎯 Step 9: Model 1 - Full Prediction for All Customers\n",
    "# Predict on the full dataset (X, not just test set)\n",
    "y_all_proba = best_model.predict_proba(X)[:, 1]\n",
    "df['Ancillary_Buyer_Probability'] = y_all_proba\n",
    "df['Ancillary_Buyer_Prediction'] = np.where(y_all_proba >= 0.5, 'Likely', 'Unlikely')\n",
    "\n",
    "# 🔄 Save full output for business reporting\n",
    "model1_full = pd.DataFrame({\n",
    "    'Customer_ID': customer_ids.values,\n",
    "    'Ancillary_Buyer_Probability': y_all_proba,\n",
    "    'Ancillary_Buyer_Prediction': np.where(y_all_proba >= 0.5, 'Likely', 'Unlikely')\n",
    "})\n",
    "model1_full.to_csv(\"model1_full_predictions.csv\", index=False)\n",
    "print(\"✅ Full predictions saved to model1_full_predictions.csv\")\n",
    "\n",
    "# 🔄 Save only likely customers for Model 2 input\n",
    "model1_likely = model1_full[model1_full['Ancillary_Buyer_Prediction'] == 'Likely']\n",
    "model1_likely.to_csv(\"model1_likely_customers.csv\", index=False)\n",
    "print(\"✅ Likely customers saved to model1_likely_customers.csv\")"
   ]
  },
  {
   "cell_type": "code",
   "execution_count": 61,
   "metadata": {},
   "outputs": [],
   "source": [
    "# 📌 Model 2: Product Affinity Prediction for 'Likely' Customers Only\n",
    "# 🎯 Step 10: Filter 'Likely' customers\n",
    "df['Customer_ID'] = customer_ids  # restore ID\n",
    "likely_customers = model1_full[model1_full['Ancillary_Buyer_Prediction'] == 'Likely']\n",
    "likely_df = df[df['Customer_ID'].isin(likely_customers['Customer_ID'])].copy()"
   ]
  },
  {
   "cell_type": "code",
   "execution_count": 62,
   "metadata": {},
   "outputs": [
    {
     "name": "stdout",
     "output_type": "stream",
     "text": [
      "Travel_Insurance\n",
      "0    39641\n",
      "1     9935\n",
      "Name: count, dtype: int64\n"
     ]
    }
   ],
   "source": [
    "print(likely_df['Travel_Insurance'].value_counts())"
   ]
  },
  {
   "cell_type": "code",
   "execution_count": 63,
   "metadata": {},
   "outputs": [
    {
     "name": "stdout",
     "output_type": "stream",
     "text": [
      "Final check on X_train:\n",
      "Age                               int64\n",
      "Gender                           object\n",
      "Family_Size                       int64\n",
      "Num_Adults                        int64\n",
      "Num_Children                      int64\n",
      "Device_Type                      object\n",
      "Has_Return_Flight                object\n",
      "Is_Multi_City                     int64\n",
      "Booking_Lead_Time                 int64\n",
      "length_of_stay                    int64\n",
      "Trip_Duration                     int64\n",
      "flight_day                       object\n",
      "Destination                      object\n",
      "Origin                           object\n",
      "flight_duration                 float64\n",
      "booking_complete                  int64\n",
      "Previous_Ancillary_Purchases      int64\n",
      "Recency_Days                      int64\n",
      "Booking_Frequency                 int64\n",
      "Session_Duration                  int64\n",
      "Page_Views                        int64\n",
      "dtype: object\n"
     ]
    }
   ],
   "source": [
    "print(\"Final check on X_train:\")\n",
    "print(X_train.dtypes)"
   ]
  },
  {
   "cell_type": "code",
   "execution_count": 69,
   "metadata": {},
   "outputs": [
    {
     "name": "stdout",
     "output_type": "stream",
     "text": [
      "✅ Total customers in full dataset: 50000\n",
      "✅ Likely customers in Model 1: 49576\n",
      "✅ Rows in likely_df (Model 2 input): 49576\n"
     ]
    }
   ],
   "source": [
    "model1_output = pd.read_csv(\"model1_full_predictions.csv\")  # <- make sure it's this file\n",
    "likely_customers = model1_output[model1_output['Ancillary_Buyer_Prediction'] == 'Likely']\n",
    "print(\"✅ Total customers in full dataset:\", df.shape[0])\n",
    "print(\"✅ Likely customers in Model 1:\", likely_customers.shape[0])\n",
    "print(\"✅ Rows in likely_df (Model 2 input):\", likely_df.shape[0])"
   ]
  },
  {
   "cell_type": "code",
   "execution_count": 65,
   "metadata": {},
   "outputs": [
    {
     "name": "stdout",
     "output_type": "stream",
     "text": [
      "\n",
      "🔍 Training model for: Travel_Insurance\n",
      "\n",
      "🔍 Training model for: wants_preferred_seat\n",
      "\n",
      "🔍 Training model for: Extra_Baggage\n",
      "\n",
      "🔍 Training model for: Meal\n",
      "\n",
      "🔍 Training model for: Priority_Boarding\n",
      "\n",
      "🔍 Training model for: Premium_Lounge\n"
     ]
    }
   ],
   "source": [
    "# 🎯 Step 11: Create product-level models\n",
    "affinity_results = likely_df[['Customer_ID']].copy()\n",
    "\n",
    "for product in target_cols:\n",
    "    print(f\"\\n🔍 Training model for: {product}\")\n",
    "    \n",
    "    X_prod = likely_df.drop(columns=target_cols + ['Ancillary_Buyer', 'Customer_ID'])\n",
    "    y_prod = likely_df[product]\n",
    "\n",
    "    X_train_p, X_test_p, y_train_p, y_test_p = train_test_split(\n",
    "        X_prod, y_prod, test_size=0.2, random_state=42, stratify=y_prod\n",
    "    )\n",
    "\n",
    "    final_pipe = Pipeline([\n",
    "        ('preprocess', preprocessor),\n",
    "        ('clf', RandomForestClassifier(random_state=42))\n",
    "    ])\n",
    "\n",
    "    # Train the model\n",
    "    final_pipe.fit(X_train_p, y_train_p)\n",
    "\n",
    "    # Predict probabilities\n",
    "    #y_prob = final_pipe.predict_proba(X_test_p)[:, 1]\n",
    "\n",
    "    # Segment labels\n",
    "    def assign_segment(p):\n",
    "        if p > 0.8: return f\"{product} Enthusiast\"\n",
    "        elif p > 0.6: return f\"{product} Upsellable\"\n",
    "        elif p > 0.3: return f\"{product} Persuadable\"\n",
    "        else: return f\"{product} Unlikely\"\n",
    "\n",
    "    # Create product result set\n",
    "    #product_results = pd.DataFrame({\n",
    "    #   'Customer_ID': likely_df.loc[X_test_p.index, 'Customer_ID'].values,\n",
    "    #    product + '_Score': y_prob,\n",
    "    #    product + '_Segment': [assign_segment(p) for p in y_prob]\n",
    "    #})\n",
    "    y_prob = final_pipe.predict_proba(X_prod)[:, 1]  # Score all likely customers\n",
    "\n",
    "    product_results = pd.DataFrame({\n",
    "        'Customer_ID': likely_df['Customer_ID'].values,\n",
    "        product + '_Score': y_prob,\n",
    "        product + '_Segment': [assign_segment(p) for p in y_prob]\n",
    "})\n",
    "    # Merge with overall result set\n",
    "    affinity_results = affinity_results.merge(product_results, on='Customer_ID', how='left')\n"
   ]
  },
  {
   "cell_type": "code",
   "execution_count": 66,
   "metadata": {},
   "outputs": [
    {
     "name": "stdout",
     "output_type": "stream",
     "text": [
      "🔍 Unique likely customers: 49576\n",
      "🔍 Customer_IDs in current product result: 49576\n",
      "🔍 Rows in product result: 49576\n"
     ]
    }
   ],
   "source": [
    "print(\"🔍 Unique likely customers:\", likely_df['Customer_ID'].nunique())\n",
    "print(\"🔍 Customer_IDs in current product result:\", product_results['Customer_ID'].nunique())\n",
    "print(\"🔍 Rows in product result:\", product_results.shape[0])"
   ]
  },
  {
   "cell_type": "code",
   "execution_count": 73,
   "metadata": {},
   "outputs": [
    {
     "data": {
      "image/png": "[encoded data removed]",
      "text/plain": [
       "<Figure size 1000x600 with 1 Axes>"
      ]
     },
     "metadata": {},
     "output_type": "display_data"
    }
   ],
   "source": [
    "# 🎯 Step 12: Feature Importance Plot\n",
    "importances = final_pipe.named_steps['clf'].feature_importances_\n",
    "features = final_pipe.named_steps['preprocess'].get_feature_names_out()\n",
    "\n",
    "# Create a sorted feature importance DataFrame\n",
    "feat_imp = pd.Series(importances, index=features).sort_values(ascending=False)\n",
    "\n",
    "# Plot top 20 features\n",
    "plt.figure(figsize=(10, 6))\n",
    "feat_imp.head(20).plot(kind='barh')\n",
    "plt.gca().invert_yaxis()\n",
    "plt.title(\"Top 20 Feature Importances - Travel_Insurance Model\")\n",
    "plt.xlabel(\"Importance Score\")\n",
    "plt.tight_layout()\n",
    "plt.show()"
   ]
  },
  {
   "cell_type": "code",
   "execution_count": 71,
   "metadata": {},
   "outputs": [
    {
     "name": "stdout",
     "output_type": "stream",
     "text": [
      "\n",
      "✅ Model 2 predictions saved to 'model2_product_affinity_scores_and_segments.csv'\n"
     ]
    }
   ],
   "source": [
    "# 🎯 Step 13: Export Model 2 Results\n",
    "affinity_results.to_csv(\"model2_product_affinity_scores_and_segments.csv\", index=False)\n",
    "print(\"\\n✅ Model 2 predictions saved to 'model2_product_affinity_scores_and_segments.csv'\")\n"
   ]
  }
 ],
 "metadata": {
  "kernelspec": {
   "display_name": "Python3.10",
   "language": "python",
   "name": "python3.10"
  },
  "language_info": {
   "codemirror_mode": {
    "name": "ipython",
    "version": 3
   },
   "file_extension": ".py",
   "mimetype": "text/x-python",
   "name": "python",
   "nbconvert_exporter": "python",
   "pygments_lexer": "ipython3",
   "version": "3.10.14"
  },
  "toc": {
   "base_numbering": 1,
   "nav_menu": {},
   "number_sections": true,
   "sideBar": true,
   "skip_h1_title": false,
   "title_cell": "Table of Contents",
   "title_sidebar": "Contents",
   "toc_cell": false,
   "toc_position": {},
   "toc_section_display": true,
   "toc_window_display": false
  }
 },
 "nbformat": 4,
 "nbformat_minor": 2
}
